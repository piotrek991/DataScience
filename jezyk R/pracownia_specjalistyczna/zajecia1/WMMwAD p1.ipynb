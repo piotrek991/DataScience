{
 "cells": [
  {
   "cell_type": "markdown",
   "metadata": {},
   "source": [
    "# Wybrane metody matematyczne w analizie danych - pracownia 1"
   ]
  },
  {
   "cell_type": "markdown",
   "metadata": {},
   "source": [
    "### Marcin Koźniewski\n",
    "#### 18 listopada 2023\n",
    "\n",
    "Kilka przydatnych zasobów:\n",
    "* https://numpy.org/doc/stable/reference/routines.linalg.html\n",
    "* https://numpy.org/doc/stable/reference/routines.array-creation.html\n"
   ]
  },
  {
   "cell_type": "markdown",
   "metadata": {},
   "source": [
    "### Ćwiczenia"
   ]
  },
  {
   "cell_type": "markdown",
   "metadata": {},
   "source": [
    "Ćwiczenie 1. Zdefiniuj macierze\n",
    "\n",
    "$A=\\begin{bmatrix}\n",
    "1 & 2 & 3 \\\\\n",
    "2 & 2 & 2  \n",
    "\\end{bmatrix}$\n",
    "\n",
    "$B=\\begin{bmatrix}\n",
    "1 & 0 & 1 \\\\\n",
    "-1 & 5 & 2  \n",
    "\\end{bmatrix}$\n",
    "\n",
    "$C=\\begin{bmatrix}\n",
    "1 & 2 \\\\\n",
    "-1 & 1  \n",
    "\\end{bmatrix}$"
   ]
  },
  {
   "cell_type": "code",
   "execution_count": 4,
   "metadata": {},
   "outputs": [
    {
     "data": {
      "text/plain": [
       "array([[1, 2, 3],\n",
       "       [2, 2, 2]])"
      ]
     },
     "execution_count": 4,
     "metadata": {},
     "output_type": "execute_result"
    }
   ],
   "source": [
    "import numpy as np\n",
    "A=np.array( [[1, 2, 3], [2, 2, 2]] )\n",
    "B=np.array( [[1,0,1], [-1,5,2]] )\n",
    "C=np.array( [[1,2], [-1,1]] )\n",
    "A"
   ]
  },
  {
   "cell_type": "markdown",
   "metadata": {},
   "source": [
    "Ćwiczenie 2. Spróbuj wykonać poniższe działania na macierzach zdefiniowancych w Ćwiczeniu 1. Czy jest to możliwe. Skomentuj wyniki:\n",
    "1. $A+B$\n",
    "1. $\\frac{1}{2}A$\n",
    "1. $A^T$\n",
    "1. $CC$ (mnożenie)\n",
    "1. $CA$ (mnożenie)\n",
    "1. $AC$ (mnożenie)\n",
    "1. $A+C$\n",
    "1. $C^{-1}$"
   ]
  },
  {
   "cell_type": "code",
   "execution_count": 2,
   "metadata": {},
   "outputs": [
    {
     "data": {
      "text/plain": [
       "array([[2, 2, 4],\n",
       "       [1, 7, 4]])"
      ]
     },
     "execution_count": 2,
     "metadata": {},
     "output_type": "execute_result"
    }
   ],
   "source": [
    "A+B"
   ]
  },
  {
   "cell_type": "code",
   "execution_count": 3,
   "metadata": {},
   "outputs": [
    {
     "data": {
      "text/plain": [
       "array([[0.5, 1. , 1.5],\n",
       "       [1. , 1. , 1. ]])"
      ]
     },
     "execution_count": 3,
     "metadata": {},
     "output_type": "execute_result"
    }
   ],
   "source": [
    "0.5*A"
   ]
  },
  {
   "cell_type": "code",
   "execution_count": 4,
   "metadata": {},
   "outputs": [
    {
     "data": {
      "text/plain": [
       "array([[1, 2],\n",
       "       [2, 2],\n",
       "       [3, 2]])"
      ]
     },
     "execution_count": 4,
     "metadata": {},
     "output_type": "execute_result"
    }
   ],
   "source": [
    "A.T"
   ]
  },
  {
   "cell_type": "code",
   "execution_count": 2,
   "metadata": {},
   "outputs": [
    {
     "data": {
      "text/plain": [
       "array([[-1,  4],\n",
       "       [-2, -1]])"
      ]
     },
     "execution_count": 2,
     "metadata": {},
     "output_type": "execute_result"
    }
   ],
   "source": [
    "C @ C"
   ]
  },
  {
   "cell_type": "code",
   "execution_count": 6,
   "metadata": {},
   "outputs": [
    {
     "data": {
      "text/plain": [
       "array([[ 5,  6,  7],\n",
       "       [ 1,  0, -1]])"
      ]
     },
     "execution_count": 6,
     "metadata": {},
     "output_type": "execute_result"
    }
   ],
   "source": [
    "C @ A"
   ]
  },
  {
   "cell_type": "code",
   "execution_count": 7,
   "metadata": {
    "scrolled": true
   },
   "outputs": [
    {
     "ename": "ValueError",
     "evalue": "matmul: Input operand 1 has a mismatch in its core dimension 0, with gufunc signature (n?,k),(k,m?)->(n?,m?) (size 2 is different from 3)",
     "output_type": "error",
     "traceback": [
      "\u001b[0;31m---------------------------------------------------------------------------\u001b[0m",
      "\u001b[0;31mValueError\u001b[0m                                Traceback (most recent call last)",
      "\u001b[0;32m<ipython-input-7-03de76d16f5b>\u001b[0m in \u001b[0;36m<module>\u001b[0;34m\u001b[0m\n\u001b[0;32m----> 1\u001b[0;31m \u001b[0mA\u001b[0m \u001b[0;34m@\u001b[0m \u001b[0mC\u001b[0m \u001b[0;31m#niewłaście wymiary macierzy C - 2 wiersze A - 3 kolumny\u001b[0m\u001b[0;34m\u001b[0m\u001b[0;34m\u001b[0m\u001b[0m\n\u001b[0m",
      "\u001b[0;31mValueError\u001b[0m: matmul: Input operand 1 has a mismatch in its core dimension 0, with gufunc signature (n?,k),(k,m?)->(n?,m?) (size 2 is different from 3)"
     ]
    }
   ],
   "source": [
    "A @ C #niewłaście wymiary macierzy C - 2 wiersze A - 3 kolumny "
   ]
  },
  {
   "cell_type": "markdown",
   "metadata": {},
   "source": [
    "niewłaście wymiary macierzy C - 2 wiersze A - 3 kolumny "
   ]
  },
  {
   "cell_type": "code",
   "execution_count": 8,
   "metadata": {},
   "outputs": [
    {
     "ename": "ValueError",
     "evalue": "operands could not be broadcast together with shapes (2,3) (2,2) ",
     "output_type": "error",
     "traceback": [
      "\u001b[0;31m---------------------------------------------------------------------------\u001b[0m",
      "\u001b[0;31mValueError\u001b[0m                                Traceback (most recent call last)",
      "\u001b[0;32m<ipython-input-8-5593bdfb1121>\u001b[0m in \u001b[0;36m<module>\u001b[0;34m\u001b[0m\n\u001b[0;32m----> 1\u001b[0;31m \u001b[0mA\u001b[0m\u001b[0;34m+\u001b[0m\u001b[0mC\u001b[0m \u001b[0;31m#różne wymiary macierzy\u001b[0m\u001b[0;34m\u001b[0m\u001b[0;34m\u001b[0m\u001b[0m\n\u001b[0m",
      "\u001b[0;31mValueError\u001b[0m: operands could not be broadcast together with shapes (2,3) (2,2) "
     ]
    }
   ],
   "source": [
    "A+C #różne wymiary macierzy"
   ]
  },
  {
   "cell_type": "code",
   "execution_count": 3,
   "metadata": {},
   "outputs": [
    {
     "name": "stdout",
     "output_type": "stream",
     "text": [
      "3.0000000000000004\n"
     ]
    },
    {
     "data": {
      "text/plain": [
       "array([[ 0.33333333, -0.66666667],\n",
       "       [ 0.33333333,  0.33333333]])"
      ]
     },
     "execution_count": 3,
     "metadata": {},
     "output_type": "execute_result"
    }
   ],
   "source": [
    "print(np.linalg.det(C)) #różne od 0!\n",
    "np.linalg.inv(C)"
   ]
  },
  {
   "cell_type": "markdown",
   "metadata": {},
   "source": [
    "Ćwiczenie 2. Zdefiniuj poniższe wektory i wykonaj działania.\n",
    "1. $u=[3,2,2]$\n",
    "1. $w=[2,0,1]$\n",
    "1. $v=[3,1] $\n",
    "\n",
    "\n",
    "1. $w^T$\n",
    "1. $Aw^T$\n",
    "1. $u+w$"
   ]
  },
  {
   "cell_type": "code",
   "execution_count": 11,
   "metadata": {},
   "outputs": [],
   "source": [
    "u=np.array([[3,2,2]])\n",
    "w=np.array([[2,0,1]])\n",
    "v=np.array([[3,1]])"
   ]
  },
  {
   "cell_type": "code",
   "execution_count": 12,
   "metadata": {},
   "outputs": [
    {
     "data": {
      "text/plain": [
       "array([[2],\n",
       "       [0],\n",
       "       [1]])"
      ]
     },
     "execution_count": 12,
     "metadata": {},
     "output_type": "execute_result"
    }
   ],
   "source": [
    "w.T"
   ]
  },
  {
   "cell_type": "code",
   "execution_count": 13,
   "metadata": {},
   "outputs": [
    {
     "data": {
      "text/plain": [
       "array([[5],\n",
       "       [6]])"
      ]
     },
     "execution_count": 13,
     "metadata": {},
     "output_type": "execute_result"
    }
   ],
   "source": [
    "A @ w.T"
   ]
  },
  {
   "cell_type": "markdown",
   "metadata": {},
   "source": [
    "A ma 2 wiersze i 3 kolumny (stąd wektor długości 2)."
   ]
  },
  {
   "cell_type": "code",
   "execution_count": 13,
   "metadata": {},
   "outputs": [
    {
     "data": {
      "text/plain": [
       "array([[5, 2, 3]])"
      ]
     },
     "execution_count": 13,
     "metadata": {},
     "output_type": "execute_result"
    }
   ],
   "source": [
    "u+w"
   ]
  },
  {
   "cell_type": "markdown",
   "metadata": {},
   "source": [
    "Ćwiczenie 3. Policz średnią ważoną w każdym z wierszy dwolnej macierzy o 3 kolumnach z wagami dla kolejnych kolumn 2, 5 i 1.\n",
    "\n",
    "$$Średnia\\;ważona = \\frac{a_1w_1+a_2w_2+a_3w_3}{w_1+w_2+w_3}$$"
   ]
  },
  {
   "cell_type": "code",
   "execution_count": 14,
   "metadata": {},
   "outputs": [
    {
     "name": "stdout",
     "output_type": "stream",
     "text": [
      "[[1 2 3]\n",
      " [1 2 2]\n",
      " [0 0 1]]\n",
      "8\n"
     ]
    },
    {
     "data": {
      "text/plain": [
       "array([1.875, 1.75 , 0.125])"
      ]
     },
     "execution_count": 14,
     "metadata": {},
     "output_type": "execute_result"
    }
   ],
   "source": [
    "M = np.array( ((1, 2, 3), (1, 2, 2), (0, 0, 1)) ) #można też używać nawiasów okrągłych\n",
    "wagi = np.array(((2,5,1)))\n",
    "print(M)\n",
    "print(sum(wagi))\n",
    "M @ wagi.T / sum(wagi)"
   ]
  },
  {
   "cell_type": "markdown",
   "metadata": {},
   "source": [
    "### Zadania samodzielne / praca domowa\n",
    "Proszę sporządzić raport z wykonania poniższych zadań. Może to być prosty plik tekstowy lub notes Jupyter z wykonanymi poleceniami i wynikiem ich wywołania z dodatkiem komentarzy, jeśli są one potrzebne (wystąpił błąd)."
   ]
  },
  {
   "cell_type": "markdown",
   "metadata": {},
   "source": [
    "Zadanie 1. Zdefiniuj Podane macierze i wektory\n",
    "\n",
    "\n",
    "1. $A=\\begin{bmatrix}\n",
    "1 & 0 & 1 & 2\\\\\n",
    "0 & 1 & -2 & 0\n",
    "\\end{bmatrix}$\n",
    "1. $B=\\begin{bmatrix}\n",
    "1 & 2 & 1 & 0\\\\\n",
    "1 & 0 & -1 & 1 \\\\\n",
    "2 & 1 & 0 & 0\n",
    "\\end{bmatrix}$\n",
    "1. $C=\\begin{bmatrix}\n",
    "1 & 2 & 1 & 0\\\\\n",
    "1 & 0 & -1 & 1 \\\\\n",
    "2 & 1 & 0 & 0\\\\\n",
    "2 & 2 & 0 & 1\n",
    "\\end{bmatrix}$\n",
    "1. $D=\\begin{bmatrix}\n",
    "1 & 0 & 2 \\\\\n",
    "0 & 2 & 1\n",
    "\\end{bmatrix}$\n",
    "1. $E=\\begin{bmatrix}\n",
    "1 & 0 & -1 \\\\\n",
    "-1 & 2 & 2\n",
    "\\end{bmatrix}$\n",
    "1. $F=\\begin{bmatrix}\n",
    "0 & 3 \\\\\n",
    "2 & 1\n",
    "\\end{bmatrix}$\n",
    "1. $G=\\begin{bmatrix}\n",
    "2 & 0 & 3 \\\\\n",
    "-1 & 1 & 2\\\\\n",
    "0 & 1 & -1\n",
    "\\end{bmatrix}$\n",
    "1. identycznościowa $H=\\begin{bmatrix}\n",
    "1 & 0 & 0 & 0\\\\\n",
    "0 & 1 & 0 & 0 \\\\\n",
    "0 & 0 & 1 & 0 \\\\\n",
    "0 & 0 & 0 & 1\n",
    "\\end{bmatrix}$\n",
    "1. identycznościowa $I=\\begin{bmatrix}\n",
    "1 & 0\\\\\n",
    "0 & 1\n",
    "\\end{bmatrix}$\n",
    "\n",
    "\n",
    "1. $\\mathbf{w}=[1,2,1,0]$\n",
    "1. $\\mathbf{u}=[1,0,-1,1]$   \n",
    "1. $\\mathbf{v}=[2,1,0,0]$\n",
    "1. $\\mathbf{x}=[4,4,4]$\n",
    "1. $\\mathbf{z}=[1,2,1,2]$\n",
    "\n"
   ]
  },
  {
   "cell_type": "code",
   "execution_count": 28,
   "metadata": {},
   "outputs": [],
   "source": [
    "a = np.array([[1,0,1,2],[0,1,-2,0]])\n",
    "b = np.array([[1,2,1,0],[1,0,-1,0],[2,1,0,0]])\n",
    "c = np.array([[1,2,1,0],[1,0,-1,1],[2,1,0,0],[2,2,0,1]])\n",
    "d = np.array([[1,0,2],[0,2,1]])\n",
    "e = np.array([[1,0,-1],[-1,2,2]])\n",
    "f = np.array([[0,3],[2,1]])\n",
    "g = np.array([[2,0,3],[-1,1,2],[0,1,-1]])\n",
    "h = np.identity(4)\n",
    "i = np.identity(2)\n",
    "w = np.array([[1,2,1,0]])\n",
    "u = np.array([[1,0,-1,0]])\n",
    "v = np.array([[2,1,0,0]])\n",
    "x = np.array([[4,4,4]])\n",
    "z = np.array([[1,2,1,2]])"
   ]
  },
  {
   "cell_type": "markdown",
   "metadata": {},
   "source": [
    "Zadanie 2. Spróbuj dokonać obliczeń na zdefiniowanych obiektach z Zadania 1. Ewentualne błędy wykonania skomentuj.\n",
    "1. $D+E$\n",
    "1. $DE^T$\n",
    "1. $D^TE$\n",
    "1. $FF$\n",
    "1. $GGGG$\n",
    "1. $(DE^T)+F$\n",
    "1. $-G$\n",
    "1. $(D^TE)+G$\n",
    "1. $FI$\n",
    "1. $IFII$\n",
    "1. $G^{-1}$\n",
    "1. $H^{-1}$\n",
    "1. $C^{-1}$\n",
    "1. $F^{-1}$\n",
    "\n",
    "\n",
    "1. $w+v$\n",
    "1. $xG$\n",
    "1. $Gx$\n",
    "1. $Gx^T$\n",
    "1. $ww^T$\n",
    "1. $w^Tw$\n",
    "1. $zz^T$\n",
    "1. $z^Tz$\n",
    "1. $Iv^T$\n",
    "1. $Du^T$\n",
    "1. $BCB^TGx^T$\n",
    "1. $BCz^T$"
   ]
  },
  {
   "cell_type": "code",
   "execution_count": 42,
   "metadata": {},
   "outputs": [],
   "source": [
    "calc1 = d+e\n",
    "calc2 = d @ e.T\n",
    "calc3 = d.T @ e\n",
    "calc4 = f @ f\n",
    "calc5 = g @ g @ g @ g\n",
    "calc6 = d @ e.T + f\n",
    "calc7 = -g\n",
    "calc8 = d.T @ e + g\n",
    "calc9 = f @ i\n",
    "calc10 = i @ f @ i @ i\n",
    "calc11 = np.linalg.inv(g)\n",
    "calc12 = np.linalg.inv(h)\n",
    "calc13 = np.linalg.inv(c)\n",
    "calc14 = np.linalg.inv(f)\n",
    "\n",
    "calc1_ = w+v\n",
    "calc2_ = x @ g\n",
    "#calc3_ = g @ x brak zgodnosci wymiarow\n",
    "calc4_ = g @ x.T\n",
    "calc5_ = w @ w.T\n",
    "calc6_ = w.T @ w\n",
    "calc7_ = z @ z.T\n",
    "calc8_ = z.T @ z\n",
    "#calc9_ = i @ v.T brak zgodnosci wymiarow\n",
    "#calc10_ = d @ u.T brak zgodnosci wymiarow\n",
    "calc11_ = b @ c @ b.T @ g @ x.T\n",
    "calc12_ = b @ c @ z.T"
   ]
  },
  {
   "cell_type": "markdown",
   "metadata": {},
   "source": [
    "Zadanie 3. Policz wyznaczniki i odwrotności macierzy $F$, $G$, $H$ i $I$\n"
   ]
  },
  {
   "cell_type": "code",
   "execution_count": 45,
   "metadata": {},
   "outputs": [],
   "source": [
    "detf = np.linalg.det(f)\n",
    "detg = np.linalg.det(g)\n",
    "deth = np.linalg.det(h)\n",
    "deti = np.linalg.det(i)\n",
    "\n",
    "invi = np.linalg.inv(f)\n",
    "invg = np.linalg.inv(g)\n",
    "invh = np.linalg.inv(h)\n",
    "invi = np.linalg.inv(i)"
   ]
  },
  {
   "cell_type": "markdown",
   "metadata": {},
   "source": [
    "Zadanie 4. Dla macierzy $F$, $C$ i $I$ policz wektory i wartości własne (`np.linalg.eig`) ."
   ]
  },
  {
   "cell_type": "code",
   "execution_count": null,
   "metadata": {},
   "outputs": [],
   "source": [
    "eigf = np.linalg.eig(f)\n",
    "eigc = np.linalg.eig(c)\n",
    "eigi = np.linalg.eig(i)"
   ]
  },
  {
   "cell_type": "markdown",
   "metadata": {},
   "source": [
    "Zadanie 5. Policz średnie dla każdego wiersza w dowolnej macierzy o 5 kolumnach. (podpowiedź: wszystkie wagi równe)"
   ]
  },
  {
   "cell_type": "code",
   "execution_count": 49,
   "metadata": {},
   "outputs": [
    {
     "data": {
      "text/plain": [
       "array([0.69986115, 0.59977759, 0.46047669])"
      ]
     },
     "execution_count": 49,
     "metadata": {},
     "output_type": "execute_result"
    }
   ],
   "source": [
    "matrix = np.random.random((3,5))\n",
    "multiply = np.ones(5)\n",
    "matrix @ multiply.T / 5"
   ]
  },
  {
   "cell_type": "code",
   "execution_count": null,
   "metadata": {},
   "outputs": [],
   "source": []
  }
 ],
 "metadata": {
  "kernelspec": {
   "display_name": "Python 3",
   "language": "python",
   "name": "python3"
  },
  "language_info": {
   "codemirror_mode": {
    "name": "ipython",
    "version": 3
   },
   "file_extension": ".py",
   "mimetype": "text/x-python",
   "name": "python",
   "nbconvert_exporter": "python",
   "pygments_lexer": "ipython3",
   "version": "3.8.8"
  }
 },
 "nbformat": 4,
 "nbformat_minor": 4
}
