{
 "cells": [
  {
   "cell_type": "markdown",
   "metadata": {},
   "source": [
    "# Wybrane metody matematyczne w analizie danych - pracownia 2"
   ]
  },
  {
   "cell_type": "markdown",
   "metadata": {},
   "source": [
    "### Marcin Koźniewski\n",
    "#### 25 listopada 2023\n",
    "\n",
    "\n",
    "Kilka przydatnych zasobów\n",
    "\n",
    "* [routines.linalg](https://numpy.org/doc/stable/reference/routines.linalg.html)\n",
    "* [np.concatenate](https://numpy.org/doc/stable/reference/generated/numpy.concatenate.html)\n"
   ]
  },
  {
   "cell_type": "markdown",
   "metadata": {},
   "source": [
    "### Ćwiczenia"
   ]
  },
  {
   "cell_type": "markdown",
   "metadata": {},
   "source": [
    "Ćwiczenie 1. Policz wyznacznik macierzy\n",
    "$A=\\begin{bmatrix}\n",
    "1 & 2 & 1 \\\\\n",
    "1 & 0 & -1  \\\\\n",
    "2 & 1 & 0 \n",
    "\\end{bmatrix}$"
   ]
  },
  {
   "cell_type": "code",
   "execution_count": 64,
   "metadata": {},
   "outputs": [
    {
     "data": {
      "text/plain": [
       "-2.0"
      ]
     },
     "execution_count": 64,
     "metadata": {},
     "output_type": "execute_result"
    }
   ],
   "source": [
    "import numpy as np\n",
    "from numpy.linalg import det\n",
    "from numpy.linalg import inv\n",
    "from math import sqrt,pi,cos,sin\n",
    "import matplotlib.pyplot as plt\n",
    "\n",
    "A=np.array( [[1, 2, 1], [1, 0, -1], [2,1,0]] )\n",
    "det(A)"
   ]
  },
  {
   "cell_type": "markdown",
   "metadata": {},
   "source": [
    "Ćwiczenie 2. Oblicz odwrotność macierzy $A$ z ćwiczenia 1.\n",
    "\n",
    "Wyznacznik macierzy $A$ jest **różny od zera** więc macierz odwrotna do $A$ istnieje."
   ]
  },
  {
   "cell_type": "code",
   "execution_count": 2,
   "metadata": {},
   "outputs": [
    {
     "data": {
      "text/plain": [
       "array([[-0.5, -0.5,  1. ],\n",
       "       [ 1. ,  1. , -1. ],\n",
       "       [-0.5, -1.5,  1. ]])"
      ]
     },
     "execution_count": 2,
     "metadata": {},
     "output_type": "execute_result"
    }
   ],
   "source": [
    "inv(A)\n"
   ]
  },
  {
   "cell_type": "markdown",
   "metadata": {},
   "source": [
    "Ćwiczenie 3. Sprawdź czy wektory\n",
    "$[1,2,3],[1,2,2],[0,0,1]$\n",
    "są liniowo zależne."
   ]
  },
  {
   "cell_type": "code",
   "execution_count": 3,
   "metadata": {},
   "outputs": [
    {
     "data": {
      "text/plain": [
       "0.0"
      ]
     },
     "execution_count": 3,
     "metadata": {},
     "output_type": "execute_result"
    }
   ],
   "source": [
    "B=np.array( [[1, 2, 3], [1, 2, 2], [0, 0, 1]] )\n",
    "det(B)"
   ]
  },
  {
   "cell_type": "markdown",
   "metadata": {},
   "source": [
    "Wyznacznik jest **równy 0**, zatem wskazane wektory są liniowo **zależne**.\n",
    "\n",
    "Ćwiczenie 4. Sprawdź czy wektory\n",
    "$[1,2,3],[1,2,2],[1,0,0]$\n",
    "są liniowo zależne."
   ]
  },
  {
   "cell_type": "code",
   "execution_count": 42,
   "metadata": {},
   "outputs": [
    {
     "data": {
      "text/plain": [
       "matrix([[1, 2, 3],\n",
       "        [1, 2, 2],\n",
       "        [1, 0, 0]])"
      ]
     },
     "execution_count": 42,
     "metadata": {},
     "output_type": "execute_result"
    }
   ],
   "source": [
    "B=np.matrix( [[1, 2, 3], [1, 2, 2], [1, 0, 0]]  )\n",
    "\n",
    "det(B)\n",
    "B"
   ]
  },
  {
   "cell_type": "markdown",
   "metadata": {},
   "source": [
    "Wyznacznik jest **różny od 0**, zatem wskazane wektory są liniowo **niezależne**.\n",
    "\n",
    "Ćwiczenie 5. Policz normy wektorów $\\mathbf{a}=[1,2,2]$ i $\\mathbf{b}=[3,0,4]$. Następnie je znormalizuj.\n"
   ]
  },
  {
   "cell_type": "markdown",
   "metadata": {},
   "source": [
    "Przypomnijmy, że normę liczymy za pomocą wzoru: \n",
    "$$ ||\\textbf{a}|| = \\sqrt{aa^T} = \\sqrt{a_1a_1 + a_2a_2 + a_3a_3}$$ \n",
    "a normalizacja wektora polega na podzieleniu wektora przez jego normę"
   ]
  },
  {
   "cell_type": "code",
   "execution_count": 5,
   "metadata": {
    "scrolled": true
   },
   "outputs": [
    {
     "name": "stdout",
     "output_type": "stream",
     "text": [
      "[[1 2 2]]\n",
      "[[1]\n",
      " [2]\n",
      " [2]]\n"
     ]
    },
    {
     "data": {
      "text/plain": [
       "3.0"
      ]
     },
     "execution_count": 5,
     "metadata": {},
     "output_type": "execute_result"
    }
   ],
   "source": [
    "a=np.array( [[1, 2, 2]] )\n",
    "print(a)\n",
    "print(a.T)\n",
    "sqrt(a@a.T)"
   ]
  },
  {
   "cell_type": "code",
   "execution_count": 6,
   "metadata": {},
   "outputs": [
    {
     "data": {
      "text/plain": [
       "array([[0.33333333, 0.66666667, 0.66666667]])"
      ]
     },
     "execution_count": 6,
     "metadata": {},
     "output_type": "execute_result"
    }
   ],
   "source": [
    "anorm = a/sqrt(a@a.T)\n",
    "\n",
    "anorm"
   ]
  },
  {
   "cell_type": "code",
   "execution_count": 7,
   "metadata": {},
   "outputs": [
    {
     "data": {
      "text/plain": [
       "1.0"
      ]
     },
     "execution_count": 7,
     "metadata": {},
     "output_type": "execute_result"
    }
   ],
   "source": [
    "sqrt(anorm@anorm.T)\n"
   ]
  },
  {
   "cell_type": "code",
   "execution_count": 8,
   "metadata": {},
   "outputs": [
    {
     "data": {
      "text/plain": [
       "5.0"
      ]
     },
     "execution_count": 8,
     "metadata": {},
     "output_type": "execute_result"
    }
   ],
   "source": [
    "b=np.array( [[3, 0, 4]])\n",
    "sqrt(b@b.T)"
   ]
  },
  {
   "cell_type": "code",
   "execution_count": 9,
   "metadata": {},
   "outputs": [
    {
     "name": "stdout",
     "output_type": "stream",
     "text": [
      "[[0.6 0.  0.8]]\n",
      "[[1.]]\n"
     ]
    }
   ],
   "source": [
    "bnorm = b/sqrt(b@b.T)\n",
    "print(bnorm)\n",
    "print(bnorm@bnorm.T)"
   ]
  },
  {
   "cell_type": "markdown",
   "metadata": {},
   "source": [
    "Ćwiczenie 6. Dokonaj rzutowania wektora $\\mathbf{a}=[1,2,2]$ na wektor $\\mathbf{b}=[3,0,4]$ i odwrotnie"
   ]
  },
  {
   "cell_type": "code",
   "execution_count": 10,
   "metadata": {},
   "outputs": [
    {
     "name": "stdout",
     "output_type": "stream",
     "text": [
      "[[0.44]]\n"
     ]
    },
    {
     "data": {
      "text/plain": [
       "array([[1.32, 0.  , 1.76]])"
      ]
     },
     "execution_count": 10,
     "metadata": {},
     "output_type": "execute_result"
    }
   ],
   "source": [
    "print(((a@b.T)/(b@b.T)))\n",
    "(a@b.T)/(b@b.T) @ b"
   ]
  },
  {
   "cell_type": "code",
   "execution_count": 11,
   "metadata": {},
   "outputs": [
    {
     "data": {
      "text/plain": [
       "array([[1.22222222, 2.44444444, 2.44444444]])"
      ]
     },
     "execution_count": 11,
     "metadata": {},
     "output_type": "execute_result"
    }
   ],
   "source": [
    "((b@a.T)/(a@a.T)) @ a"
   ]
  },
  {
   "cell_type": "markdown",
   "metadata": {},
   "source": [
    "Ćwiczenie 7. Podziałaj przekształceniem zdefiniowanym za pomocą poniższej macierzy i zobrazuj je wykresem:\n",
    "$$\\mathbf{a}=[1,2]\\\\ \\mathbf{b}=[3,0]\\\\ \\mathbf{c}=[3,3] \\\\ M=\\begin{bmatrix}\n",
    "2 & 0 \\\\\n",
    "0 & 2.5 \n",
    "\\end{bmatrix}$$"
   ]
  },
  {
   "cell_type": "code",
   "execution_count": 12,
   "metadata": {
    "scrolled": true
   },
   "outputs": [
    {
     "data": {
      "text/plain": [
       "(array([[2.],\n",
       "        [5.]]),\n",
       " array([[6.],\n",
       "        [0.]]),\n",
       " array([[6. ],\n",
       "        [7.5]]))"
      ]
     },
     "execution_count": 12,
     "metadata": {},
     "output_type": "execute_result"
    }
   ],
   "source": [
    "a = np.array( [[1, 2]] )\n",
    "b = np.array( [[3, 0]] )\n",
    "c = np.array( [(3, 3)] )\n",
    "M = np.array( [[2, 0], [0, 2.5]])\n",
    "\n",
    "Ma = M @ a.T\n",
    "Mb = M @ b.T\n",
    "Mc = M @ c.T\n",
    "Ma, Mb, Mc"
   ]
  },
  {
   "cell_type": "markdown",
   "metadata": {},
   "source": [
    "Aby uprościć przetwarzanie możemy złożyć wektory przekształcane w macierz co pozwoli na wykonanie obliczeń na wszystkich wektorach na raz.\n",
    "\n",
    "\n",
    "[np.concatenate](https://numpy.org/doc/stable/reference/generated/numpy.concatenate.html)"
   ]
  },
  {
   "cell_type": "code",
   "execution_count": 33,
   "metadata": {},
   "outputs": [
    {
     "name": "stdout",
     "output_type": "stream",
     "text": [
      "[[1 3 3]\n",
      " [2 0 3]]\n",
      "[[2.  6.  6. ]\n",
      " [5.  0.  7.5]]\n"
     ]
    },
    {
     "data": {
      "text/plain": [
       "array([[1],\n",
       "       [2]])"
      ]
     },
     "execution_count": 33,
     "metadata": {},
     "output_type": "execute_result"
    }
   ],
   "source": [
    "toplot = np.concatenate((a.T, b.T, c.T), axis=1)\n",
    "print(toplot)\n",
    "toplotM = np.concatenate((Ma, Mb, Mc), axis=1)\n",
    "print(toplotM)\n",
    "\n",
    "a.T"
   ]
  },
  {
   "cell_type": "markdown",
   "metadata": {},
   "source": [
    "I wyrysowanie"
   ]
  },
  {
   "cell_type": "code",
   "execution_count": 28,
   "metadata": {
    "scrolled": true
   },
   "outputs": [
    {
     "data": {
      "text/plain": [
       "array([[1, 3, 3],\n",
       "       [2, 0, 3]])"
      ]
     },
     "execution_count": 28,
     "metadata": {},
     "output_type": "execute_result"
    },
    {
     "data": {
      "image/png": "[encoded data removed]",
      "text/plain": [
       "<Figure size 640x480 with 1 Axes>"
      ]
     },
     "metadata": {},
     "output_type": "display_data"
    }
   ],
   "source": [
    "fig = plt.figure()\n",
    "ax = fig.add_subplot(111)\n",
    "ax.plot(toplot[0,], toplot[1,])\n",
    "ax.plot(toplotM[0,], toplotM[1,])\n",
    "ax.set_aspect('equal')\n",
    "\n",
    "toplot"
   ]
  },
  {
   "cell_type": "markdown",
   "metadata": {},
   "source": [
    "Powyższe przekształcenie jest przekształceniem skalowania (na pomarańczowo są narysowane linie łączące przekształcone punkty."
   ]
  },
  {
   "cell_type": "markdown",
   "metadata": {},
   "source": [
    "### Zadania samodzielne - praca domowa\n",
    "Proszę sporządzić raport z wykonania poniższych zadań. Może to być prosty plik tekstowy lub notes Jupyter z wykonanymi poleceniami i wynikiem ich wywołania z dodatkiem komentarzy, jeśli są one potrzebne (wystąpił błąd)."
   ]
  },
  {
   "cell_type": "markdown",
   "metadata": {},
   "source": [
    "Zadanie 1. Dla zadanych wektorów i macierzy\n",
    "\n",
    "* $\\mathbf{w}=[1,2,1,0]$\n",
    "* $\\mathbf{u}=[1,0,-1,1]$   \n",
    "* $\\mathbf{v}=[2,1,0,0]$\n",
    "* $A=\\begin{bmatrix}\n",
    "1 & 0 & 1 & 2\\\\\n",
    "0 & 1 & -2 & 0\n",
    "\\end{bmatrix}$\n",
    "* $B=\\begin{bmatrix}\n",
    "1 & 2 & 1 & 0\\\\\n",
    "1 & 0 & -1 & 1 \\\\\n",
    "2 & 1 & 0 & 0\n",
    "\\end{bmatrix}$\n",
    "\n",
    "policz:\n",
    "1. $A\\mathbf{w}^T$\n",
    "2. $A\\mathbf{u}^T$\n",
    "3. $A\\mathbf{v}^T$\n",
    "4. $AB^T$\n",
    "\n",
    "Porównaj i skomentuj wyniki (Zwróć uwagę na wektory i macierz B. Czym jest macierz B?)\n"
   ]
  },
  {
   "cell_type": "markdown",
   "metadata": {},
   "source": [
    "Zadanie 2. Sprawdź za pomocą wyznacznika macierzy czy wektory\n",
    "* $\\mathbf{v}=\\left[1,-1,1\\right]$\n",
    "* $\\mathbf{w}=\\left[1,2,3\\right]$\n",
    "* $\\mathbf{u}=\\left[2,-1,2\\right]$\n",
    "\n",
    "są liniowo zależne\n",
    "\n",
    "To samo wykonaj dla wektorów:\n",
    "\n",
    "* $\\mathbf{x}=\\left[1,-1,1\\right]$\n",
    "* $\\mathbf{y}=\\left[4,4,4\\right]$\n",
    "* $\\mathbf{z}=\\left[1,2,1\\right]$"
   ]
  },
  {
   "cell_type": "markdown",
   "metadata": {},
   "source": [
    "Zadanie 3. Policz normy wektorów v, w, u.\n"
   ]
  },
  {
   "cell_type": "markdown",
   "metadata": {},
   "source": [
    "Zadanie 4. Dokonaj rzutowania wektorów x, y, z na każdy z wektorów u, v, w."
   ]
  },
  {
   "cell_type": "markdown",
   "metadata": {},
   "source": [
    "Zadanie 5. Znormalizuj wektory u, v, w. Wykonaj rzutowanie wektorów na x, y, z na powstałe wektory."
   ]
  },
  {
   "cell_type": "markdown",
   "metadata": {},
   "source": [
    "Zadanie 6. Podziałaj kolejno obydwoma przekształceniami zdefiniowanym za pomocą poniższych macierzy i zobrazuj je wykresem:\n",
    "$$\\mathbf{a}=[3,1]\\\\ \\mathbf{b}=[1,0]\\\\ \\mathbf{c}=[0,2] \\\\ \\mathbf{d}=[0,0] \\\\ R=\\begin{bmatrix}\n",
    "2 & 0 \\\\\n",
    "0 & 2.5 \n",
    "\\end{bmatrix}\\\\\n",
    "S=\\begin{bmatrix}\n",
    "\\cos \\frac{\\pi}{4} & -\\sin \\frac{\\pi}{4} \\\\\n",
    "\\sin \\frac{\\pi}{4} & \\cos \\frac{\\pi}{4} \n",
    "\\end{bmatrix}$$"
   ]
  },
  {
   "cell_type": "markdown",
   "metadata": {},
   "source": [
    "Zadanie 7. Dokonaj rzutowania wektoróów uzyskanych w zadaniu 6 na wektory\n",
    "$$\\mathbf{x}=[1,1]\\\\ \\mathbf{y}=[1,-1]$$\n",
    "Które współrzędne są równe (bliskie) 0?"
   ]
  },
  {
   "cell_type": "code",
   "execution_count": 37,
   "metadata": {},
   "outputs": [],
   "source": [
    "#Zad1\n",
    "w = np.array([[1,2,1,0]])\n",
    "u = np.array([[1,0,-1,1]])\n",
    "v = np.array([[2,1,0,0]])\n",
    "A = np.array([[1,0,1,2],[0,1,-2,0]])\n",
    "B = np.array([[1,2,1,0],[1,0,-1,1],[2,1,0,0]])\n",
    "\n",
    "mat1 = A@w.T\n",
    "mat2 = A@u.T\n",
    "mat3 = A@v.T\n",
    "mat4 = A@B.T\n",
    "\n",
    "# macierz B jest połaczeniem wektorow w,u,v\n",
    "# kolejne przekształcenia są operacjami skalowania macierzy A\n",
    "# zmienna mat4 przechowuje w każdej z kolumn wyniki skalowania wszystkimi wcześniejszymi wektorami"
   ]
  },
  {
   "cell_type": "code",
   "execution_count": 47,
   "metadata": {},
   "outputs": [
    {
     "data": {
      "text/plain": [
       "-2.0000000000000004"
      ]
     },
     "execution_count": 47,
     "metadata": {},
     "output_type": "execute_result"
    }
   ],
   "source": [
    "#Zad2\n",
    "𝐯=np.array([[1,-1,1]])\n",
    "𝐰=np.array([[1,2,3]])\n",
    "𝐮=np.array([[2,-1,2]])\n",
    "det(np.concatenate((w,u,v)))\n",
    "\n",
    "#wektory niezależne"
   ]
  },
  {
   "cell_type": "code",
   "execution_count": 52,
   "metadata": {},
   "outputs": [
    {
     "name": "stdout",
     "output_type": "stream",
     "text": [
      "[[0.26726124 0.53452248 0.80178373]]\n",
      "[[ 0.57735027 -0.57735027  0.57735027]]\n",
      "[[ 0.66666667 -0.33333333  0.66666667]]\n",
      "[[ 0.57735027 -0.57735027  0.57735027]]\n",
      "[[0.57735027 0.57735027 0.57735027]]\n",
      "[[0.40824829 0.81649658 0.40824829]]\n"
     ]
    }
   ],
   "source": [
    "#Zad3\n",
    "\n",
    "normw = w / sqrt(w@w.T)\n",
    "normv = v / sqrt(v@v.T)\n",
    "normu = u / sqrt(u@u.T)\n",
    "\n",
    "print(normw)\n",
    "print(normv)\n",
    "print(normu)\n",
    "\n",
    "𝐱=np.array([[1,-1,1]])\n",
    "𝐲=np.array([[4,4,4]])\n",
    "𝐳=np.array([[1,2,1]])\n",
    "\n",
    "normx = x / sqrt(x@x.T)\n",
    "normy = y / sqrt(y@y.T)\n",
    "normz = z / sqrt(z@z.T)\n",
    "\n",
    "print(normx)\n",
    "print(normy)\n",
    "print(normz)"
   ]
  },
  {
   "cell_type": "code",
   "execution_count": 54,
   "metadata": {},
   "outputs": [],
   "source": [
    "#Zad4\n",
    "\n",
    "rzutx_u = (x@u.T)/(u@u.T) @ u\n",
    "rzutx_w = (x@w.T)/(w@w.T) @ w\n",
    "rzutx_v = (x@v.T)/(v@v.T) @ v\n",
    "\n",
    "\n",
    "rzuty_u = (y@u.T)/(u@u.T) @ u\n",
    "rzuty_w = (y@w.T)/(w@w.T) @ w\n",
    "rzuty_v = (y@v.T)/(v@v.T) @ v\n",
    "\n",
    "rzutz_u = (z@u.T)/(u@u.T) @ u\n",
    "rzutz_w = (z@w.T)/(w@w.T) @ w\n",
    "rzutz_v = (z@v.T)/(v@v.T) @ v"
   ]
  },
  {
   "cell_type": "code",
   "execution_count": 60,
   "metadata": {},
   "outputs": [],
   "source": [
    "#Zad5\n",
    "normw = w / sqrt(w@w.T)\n",
    "normv = v / sqrt(v@v.T)\n",
    "normu = u / sqrt(u@u.T)\n",
    "\n",
    "rzutx_normu = (x@normu.T)/(normu@normu.T) @ normu\n",
    "rzutx_normw = (x@normw.T)/(normw@normw.T) @ normw\n",
    "rzutx_normv = (x@normv.T)/(normv@normv.T) @ normv\n",
    "\n",
    "rzuty_normu = (y@normu.T)/(normu@normu.T) @ normu\n",
    "rzuty_normw = (y@normw.T)/(normw@normw.T) @ normw\n",
    "rzuty_normv = (y@normv.T)/(normv@normv.T) @ normv\n",
    "\n",
    "rzutz_normu = (z@normu.T)/(normu@normu.T) @ normu\n",
    "rzutz_normw = (z@normw.T)/(normw@normw.T) @ normw\n",
    "rzutz_normv = (z@normv.T)/(normv@normv.T) @ normv\n"
   ]
  },
  {
   "cell_type": "code",
   "execution_count": 73,
   "metadata": {},
   "outputs": [
    {
     "data": {
      "image/png": "[encoded data removed]",
      "text/plain": [
       "<Figure size 640x480 with 2 Axes>"
      ]
     },
     "metadata": {},
     "output_type": "display_data"
    }
   ],
   "source": [
    "import math\n",
    "a=np.array([[3,1]])\n",
    "b=np.array([[1,0]])\n",
    "c=np.array([[0,2]])\n",
    "d=np.array([[0,0]])\n",
    "\n",
    "R=np.array([[2,0],[0,2.5]])\n",
    "\n",
    "S = np.array([[cos(pi/4),sin(pi/4)],[-sin(pi/4),cos(pi/4)]])\n",
    "\n",
    "abcd = np.concatenate((a,b,c,d))\n",
    "\n",
    "skal1 = R @ abcd.T\n",
    "skal2 = S @ abcd.T\n",
    "\n",
    "\n",
    "fig = plt.figure()\n",
    "ax = fig.add_subplot(121)\n",
    "ax.plot(abcd[:,0], abcd[:,1])\n",
    "ax.plot(skal1[0,], skal1[1,])\n",
    "ax.set_aspect('equal')\n",
    "\n",
    "ax2 = fig.add_subplot(122)\n",
    "ax2.plot(abcd[:,0], abcd[:,1])\n",
    "ax2.plot(skal2[0,], skal2[1,])\n",
    "ax2.set_aspect('equal')\n",
    "\n",
    "\n"
   ]
  },
  {
   "cell_type": "markdown",
   "metadata": {},
   "source": [
    "# Kilka uwag:\n",
    "\n",
    "łączenie wektorów w macierz"
   ]
  },
  {
   "cell_type": "code",
   "execution_count": 22,
   "metadata": {},
   "outputs": [
    {
     "data": {
      "text/plain": [
       "array([[1, 2],\n",
       "       [3, 0]])"
      ]
     },
     "execution_count": 22,
     "metadata": {},
     "output_type": "execute_result"
    }
   ],
   "source": [
    "np.concatenate((a,b), axis=0)"
   ]
  },
  {
   "cell_type": "markdown",
   "metadata": {},
   "source": [
    "Budowanie macierzy z wyliczonych wartości"
   ]
  },
  {
   "cell_type": "code",
   "execution_count": 23,
   "metadata": {},
   "outputs": [
    {
     "name": "stdout",
     "output_type": "stream",
     "text": [
      "3.141592653589793\n",
      "-0.7071067811865476\n"
     ]
    }
   ],
   "source": [
    "import math\n",
    "print(np.pi)\n",
    "print(-np.cos(np.pi/4))"
   ]
  },
  {
   "cell_type": "code",
   "execution_count": 25,
   "metadata": {},
   "outputs": [],
   "source": [
    "aa=-np.cos(np.pi/4)"
   ]
  },
  {
   "cell_type": "code",
   "execution_count": 26,
   "metadata": {},
   "outputs": [
    {
     "data": {
      "text/plain": [
       "array([[-0.70710678, -0.70710678],\n",
       "       [-0.70710678, -0.70710678]])"
      ]
     },
     "execution_count": 26,
     "metadata": {},
     "output_type": "execute_result"
    }
   ],
   "source": [
    "np.array([[aa,aa],[aa,aa]])"
   ]
  }
 ],
 "metadata": {
  "kernelspec": {
   "display_name": "Python 3 (ipykernel)",
   "language": "python",
   "name": "python3"
  },
  "language_info": {
   "codemirror_mode": {
    "name": "ipython",
    "version": 3
   },
   "file_extension": ".py",
   "mimetype": "text/x-python",
   "name": "python",
   "nbconvert_exporter": "python",
   "pygments_lexer": "ipython3",
   "version": "3.10.9"
  }
 },
 "nbformat": 4,
 "nbformat_minor": 4
}
