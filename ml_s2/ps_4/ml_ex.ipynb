{
 "cells": [
  {
   "cell_type": "code",
   "execution_count": 18,
   "id": "4f269b31-0c11-452a-94e1-92b0c231579b",
   "metadata": {},
   "outputs": [],
   "source": [
    "import tensorflow as tf"
   ]
  },
  {
   "cell_type": "code",
   "execution_count": 84,
   "id": "e8ec605d-a45c-4f5b-9ca4-e23ce697877d",
   "metadata": {},
   "outputs": [
    {
     "data": {
      "text/plain": [
       "array([[[0., 0., 0., ..., 0., 0., 0.],\n",
       "        [0., 0., 0., ..., 0., 0., 0.],\n",
       "        [0., 0., 0., ..., 0., 0., 0.],\n",
       "        ...,\n",
       "        [0., 0., 0., ..., 0., 0., 0.],\n",
       "        [0., 0., 0., ..., 0., 0., 0.],\n",
       "        [0., 0., 0., ..., 0., 0., 0.]],\n",
       "\n",
       "       [[0., 0., 0., ..., 0., 0., 0.],\n",
       "        [0., 0., 0., ..., 0., 0., 0.],\n",
       "        [0., 0., 0., ..., 0., 0., 0.],\n",
       "        ...,\n",
       "        [0., 0., 0., ..., 0., 0., 0.],\n",
       "        [0., 0., 0., ..., 0., 0., 0.],\n",
       "        [0., 0., 0., ..., 0., 0., 0.]],\n",
       "\n",
       "       [[0., 0., 0., ..., 0., 0., 0.],\n",
       "        [0., 0., 0., ..., 0., 0., 0.],\n",
       "        [0., 0., 0., ..., 0., 0., 0.],\n",
       "        ...,\n",
       "        [0., 0., 0., ..., 0., 0., 0.],\n",
       "        [0., 0., 0., ..., 0., 0., 0.],\n",
       "        [0., 0., 0., ..., 0., 0., 0.]],\n",
       "\n",
       "       ...,\n",
       "\n",
       "       [[0., 0., 0., ..., 0., 0., 0.],\n",
       "        [0., 0., 0., ..., 0., 0., 0.],\n",
       "        [0., 0., 0., ..., 0., 0., 0.],\n",
       "        ...,\n",
       "        [0., 0., 0., ..., 0., 0., 0.],\n",
       "        [0., 0., 0., ..., 0., 0., 0.],\n",
       "        [0., 0., 0., ..., 0., 0., 0.]],\n",
       "\n",
       "       [[0., 0., 0., ..., 0., 0., 0.],\n",
       "        [0., 0., 0., ..., 0., 0., 0.],\n",
       "        [0., 0., 0., ..., 0., 0., 0.],\n",
       "        ...,\n",
       "        [0., 0., 0., ..., 0., 0., 0.],\n",
       "        [0., 0., 0., ..., 0., 0., 0.],\n",
       "        [0., 0., 0., ..., 0., 0., 0.]],\n",
       "\n",
       "       [[0., 0., 0., ..., 0., 0., 0.],\n",
       "        [0., 0., 0., ..., 0., 0., 0.],\n",
       "        [0., 0., 0., ..., 0., 0., 0.],\n",
       "        ...,\n",
       "        [0., 0., 0., ..., 0., 0., 0.],\n",
       "        [0., 0., 0., ..., 0., 0., 0.],\n",
       "        [0., 0., 0., ..., 0., 0., 0.]]])"
      ]
     },
     "execution_count": 84,
     "metadata": {},
     "output_type": "execute_result"
    }
   ],
   "source": [
    "# deep learning library. Tensors are just multi-dimensional arrays\n",
    "mnist = tf.keras.datasets.mnist\n",
    "# mnist is a dataset of 28x28 images of handwritten digits and their labels\n",
    "(x_train, y_train),(x_test, y_test) = mnist.load_data()\n",
    "# unpacks images to x_train/x_test and labels to y_train/y_test\n",
    "x_train = tf.keras.utils.normalize(x_train, axis=1) # scales data between 0 and 1\n",
    "x_test = tf.keras.utils.normalize(x_test, axis=1) # scales data between 0 and 1\n",
    "\n",
    "#base example\n",
    "model = tf.keras.models.Sequential() # a basic feed-forward model\n",
    "model.add(tf.keras.layers.Flatten()) # takes our 28x28 and makes it 1x784\n",
    "model.add(tf.keras.layers.Dense(1024, activation= tf.keras.activations.relu))\n",
    "model.add(tf.keras.layers.Dense(1024, activation= tf.keras.activations.relu))\n",
    "model.add(tf.keras.layers.Dense(10, activation=tf.keras.activations.softmax))\n",
    "\n",
    "x_train"
   ]
  },
  {
   "cell_type": "code",
   "execution_count": 81,
   "id": "b09b91a8-2692-4bf3-a5e4-c5f331cfc69d",
   "metadata": {},
   "outputs": [],
   "source": [
    "model.compile(optimizer='adam', # Good default optimizer to start with\n",
    " loss='sparse_categorical_crossentropy',\n",
    " metrics=['accuracy'])"
   ]
  },
  {
   "cell_type": "code",
   "execution_count": 17,
   "id": "a9f0700f-5b06-41e2-9d19-451bcbcd240f",
   "metadata": {},
   "outputs": [
    {
     "name": "stdout",
     "output_type": "stream",
     "text": [
      "Epoch 1/3\n",
      "60000/60000 [==============================] - 103s 2ms/step - loss: 0.2209 - accuracy: 0.9346\n",
      "Epoch 2/3\n",
      "60000/60000 [==============================] - 102s 2ms/step - loss: 0.1389 - accuracy: 0.9637\n",
      "Epoch 3/3\n",
      "60000/60000 [==============================] - 101s 2ms/step - loss: 0.1248 - accuracy: 0.9691\n",
      "313/313 [==============================] - 1s 1ms/step - loss: 0.1733 - accuracy: 0.9683\n",
      "0.1732817441225052\n",
      "0.9682999849319458\n",
      "CPU times: total: 52min 5s\n",
      "Wall time: 5min 6s\n"
     ]
    }
   ],
   "source": [
    "%%time\n",
    "model.fit(x_train, y_train, batch_size=1, epochs=3) # train the model\n",
    "val_loss, val_acc = model.evaluate(x_test, y_test) # evaluate the out of sample data with model\n",
    "print(val_loss) # model's loss (error)\n",
    "print(val_acc) # model's accuracy\n"
   ]
  },
  {
   "cell_type": "code",
   "execution_count": 43,
   "id": "3cd7d8d3-5c9f-4fed-ae2d-1dbb87107cbc",
   "metadata": {},
   "outputs": [
    {
     "name": "stdout",
     "output_type": "stream",
     "text": [
      "Epoch 1/3\n",
      "6000/6000 [==============================] - 14s 2ms/step - loss: 0.2211 - accuracy: 0.9339\n",
      "Epoch 2/3\n",
      "6000/6000 [==============================] - 13s 2ms/step - loss: 0.0978 - accuracy: 0.9693\n",
      "Epoch 3/3\n",
      "6000/6000 [==============================] - 13s 2ms/step - loss: 0.0686 - accuracy: 0.9782\n",
      "313/313 [==============================] - 1s 2ms/step - loss: 0.0986 - accuracy: 0.9725\n",
      "0.09862624108791351\n",
      "0.9725000262260437\n",
      "CPU times: total: 5min 8s\n",
      "Wall time: 40.6 s\n"
     ]
    }
   ],
   "source": [
    "%%time\n",
    "model.fit(x_train, y_train, batch_size=10, epochs=3) # train the model\n",
    "val_loss, val_acc = model.evaluate(x_test, y_test) # evaluate the out of sample data with model\n",
    "print(val_loss) # model's loss (error)\n",
    "print(val_acc) # model's accuracy\n"
   ]
  },
  {
   "cell_type": "code",
   "execution_count": 82,
   "id": "3809e614-14cf-4bab-b357-f264d2e54496",
   "metadata": {},
   "outputs": [
    {
     "name": "stdout",
     "output_type": "stream",
     "text": [
      "Epoch 1/3\n",
      "60/60 [==============================] - 6s 82ms/step - loss: 0.4607 - accuracy: 0.8746\n",
      "Epoch 2/3\n",
      "60/60 [==============================] - 5s 83ms/step - loss: 0.1579 - accuracy: 0.9528\n",
      "Epoch 3/3\n",
      "60/60 [==============================] - 5s 83ms/step - loss: 0.0981 - accuracy: 0.9711\n",
      "313/313 [==============================] - 2s 4ms/step - loss: 0.1041 - accuracy: 0.9695\n",
      "0.10410168766975403\n",
      "0.9695000052452087\n",
      "CPU times: total: 2min 24s\n",
      "Wall time: 17.6 s\n"
     ]
    }
   ],
   "source": [
    "%%time\n",
    "model.fit(x_train, y_train, batch_size=1000, epochs=3) # train the model\n",
    "val_loss, val_acc = model.evaluate(x_test, y_test) # evaluate the out of sample data with model\n",
    "print(val_loss) # model's loss (error)\n",
    "print(val_acc) # model's accuracy\n"
   ]
  },
  {
   "cell_type": "code",
   "execution_count": null,
   "id": "6e268b57-1748-4222-870b-c9a99bd40d35",
   "metadata": {},
   "outputs": [],
   "source": []
  },
  {
   "cell_type": "code",
   "execution_count": null,
   "id": "eaaf7c96-2419-4dfe-ab84-73c8887acc2b",
   "metadata": {},
   "outputs": [],
   "source": []
  }
 ],
 "metadata": {
  "kernelspec": {
   "display_name": "Python 3 (ipykernel)",
   "language": "python",
   "name": "python3"
  },
  "language_info": {
   "codemirror_mode": {
    "name": "ipython",
    "version": 3
   },
   "file_extension": ".py",
   "mimetype": "text/x-python",
   "name": "python",
   "nbconvert_exporter": "python",
   "pygments_lexer": "ipython3",
   "version": "3.10.13"
  }
 },
 "nbformat": 4,
 "nbformat_minor": 5
}
