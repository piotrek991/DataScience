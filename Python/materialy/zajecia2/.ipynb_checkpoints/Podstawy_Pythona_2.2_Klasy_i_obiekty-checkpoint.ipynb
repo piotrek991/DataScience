{
 "cells": [
  {
   "cell_type": "markdown",
   "metadata": {},
   "source": [
    "Wojciech Łaguna  \n",
    "[wojtek@laguna.pm](mailto:wojtek@laguna.pm)\n",
    "\n",
    "Mateusz Rogowski  "
   ]
  },
  {
   "cell_type": "markdown",
   "metadata": {},
   "source": [
    "<b style=\"font-size:24px;\">Python w Data Science  \n",
    "Podstawy Pythona 2 - Klasy i obiekty<b/>\n",
    "\n",
    "---\n",
    "<img src=\"https://www.python.org/static/img/python-logo@2x.png\" />"
   ]
  },
  {
   "cell_type": "markdown",
   "metadata": {},
   "source": [
    "# Klasy i obiekty\n",
    "---\n",
    "**Kursy i instrukcje:  \n",
    "[learnpython.org - Klasy i Obiekty](http://www.learnpython.org/pl/Klasy_i_obiekty)  \n",
    "M.Janaszewski - Wykład 2, Programowanie\tzorientowane\tobiektowo\tw\tPythonie** \n",
    "[link](https://docplayer.pl/64301034-Wyklad-2-programowanie-zorientowane-obiektowo-w-pythonie.html)\n",
    "\n",
    "**Podstawowe informacje:**\n",
    "* Każda\t metoda\t klasy\t jako\t pierwszy\t parametr\t przyjmuje\t \t obiekt,\t w\t którym\t jest\t zdefiniowana\t(self)\n",
    "* Podczas\t wywołania\t metody\t obiektu\t nie\t wymieniamy\t na\t liście\t argumentów\t self. Jest\t on\tautomatycznie\tprzekazywany\tprzez\tPythona\tdo\tmetody.\n",
    "* Nazwy\tmetod\tspecjalnych\tzawsze\trozpoczynają\tsię\ti\tkończą\tdwoma\tznakami\tpodkreślenia\t(na\tprzykład\t \\__init\\__().\t Python\t uruchamia\t te\t metody\t automatycznie,\t gdy\t interpreter\t napotka\tfunkcję\t wbudowaną\t lub\t operator\t odpowiadający\t danej\t metodzie\t specjalnej."
   ]
  },
  {
   "cell_type": "markdown",
   "metadata": {},
   "source": [
    "## Definiowanie klas"
   ]
  },
  {
   "cell_type": "code",
   "execution_count": null,
   "metadata": {
    "ExecuteTime": {
     "end_time": "2017-11-04T10:54:48.186457Z",
     "start_time": "2017-11-04T10:54:48.181467Z"
    }
   },
   "outputs": [],
   "source": [
    "# def -> functions\n",
    "# class -> classes\n",
    "\n",
    "\n",
    "class PythonClass:\n",
    "    def return_number_of_2(self):\n",
    "        return 2"
   ]
  },
  {
   "cell_type": "code",
   "execution_count": null,
   "metadata": {
    "ExecuteTime": {
     "end_time": "2017-11-04T10:54:52.682131Z",
     "start_time": "2017-11-04T10:54:52.677102Z"
    }
   },
   "outputs": [],
   "source": [
    "a = PythonClass()\n",
    "type(a)"
   ]
  },
  {
   "cell_type": "code",
   "execution_count": null,
   "metadata": {
    "ExecuteTime": {
     "end_time": "2017-11-04T10:54:59.393428Z",
     "start_time": "2017-11-04T10:54:59.389423Z"
    }
   },
   "outputs": [],
   "source": [
    "a.return_number_of_2()"
   ]
  },
  {
   "cell_type": "markdown",
   "metadata": {},
   "source": [
    "## Metoda \\__init\\__\n",
    "---\n",
    "Służy do inicjalizacji obiektu. Może przyjmować wartości początkowe obiektu.  \n",
    "W metodzie \\__init\\__ deklarujemy zmienne danego obiektu."
   ]
  },
  {
   "cell_type": "code",
   "execution_count": null,
   "metadata": {
    "ExecuteTime": {
     "end_time": "2017-11-04T12:18:13.376327Z",
     "start_time": "2017-11-04T12:18:13.372341Z"
    }
   },
   "outputs": [],
   "source": [
    "class PythonClass:\n",
    "    \n",
    "    def __init__(self, number):\n",
    "        self._number = number\n",
    "    \n",
    "    def return_doubled(self):\n",
    "        return self._number * 2"
   ]
  },
  {
   "cell_type": "code",
   "execution_count": null,
   "metadata": {
    "ExecuteTime": {
     "end_time": "2017-11-04T12:18:13.749047Z",
     "start_time": "2017-11-04T12:18:13.746045Z"
    }
   },
   "outputs": [],
   "source": [
    "a = PythonClass(15)\n",
    "a.return_doubled()"
   ]
  },
  {
   "cell_type": "code",
   "execution_count": null,
   "metadata": {},
   "outputs": [],
   "source": [
    "b = PythonClass(8)\n",
    "b.return_doubled()"
   ]
  },
  {
   "cell_type": "code",
   "execution_count": null,
   "metadata": {},
   "outputs": [],
   "source": [
    "a.return_doubled()"
   ]
  },
  {
   "cell_type": "code",
   "execution_count": null,
   "metadata": {
    "ExecuteTime": {
     "end_time": "2017-11-04T12:19:10.194877Z",
     "start_time": "2017-11-04T12:19:10.186885Z"
    }
   },
   "outputs": [],
   "source": [
    "class CountReturns:\n",
    "    \n",
    "    def __init__(self, number):\n",
    "        self.__number = number\n",
    "        self.__counter = 0\n",
    "    \n",
    "    def return_number(self):\n",
    "        self.__counter += 1\n",
    "        return self.__number\n",
    "    \n",
    "    def return_counter(self):\n",
    "        return self.__counter"
   ]
  },
  {
   "cell_type": "code",
   "execution_count": null,
   "metadata": {
    "ExecuteTime": {
     "end_time": "2017-11-04T12:19:21.512693Z",
     "start_time": "2017-11-04T12:19:21.508689Z"
    }
   },
   "outputs": [],
   "source": [
    "a = CountReturns(5)\n",
    "a.return_number()"
   ]
  },
  {
   "cell_type": "code",
   "execution_count": null,
   "metadata": {
    "ExecuteTime": {
     "end_time": "2017-11-04T12:19:47.453035Z",
     "start_time": "2017-11-04T12:19:47.44803Z"
    }
   },
   "outputs": [],
   "source": [
    "print(a.return_number())\n",
    "print(a.return_number())"
   ]
  },
  {
   "cell_type": "code",
   "execution_count": null,
   "metadata": {
    "ExecuteTime": {
     "end_time": "2017-11-04T12:19:53.395631Z",
     "start_time": "2017-11-04T12:19:53.391627Z"
    }
   },
   "outputs": [],
   "source": [
    "a.return_counter()"
   ]
  },
  {
   "cell_type": "code",
   "execution_count": null,
   "metadata": {
    "ExecuteTime": {
     "end_time": "2017-11-04T12:20:28.1374Z",
     "start_time": "2017-11-04T12:20:28.133387Z"
    }
   },
   "outputs": [],
   "source": [
    "b = CountReturns(3)\n",
    "b.return_number()"
   ]
  },
  {
   "cell_type": "code",
   "execution_count": null,
   "metadata": {
    "ExecuteTime": {
     "end_time": "2017-11-04T12:20:33.088722Z",
     "start_time": "2017-11-04T12:20:33.084718Z"
    }
   },
   "outputs": [],
   "source": [
    "b.return_counter()"
   ]
  },
  {
   "cell_type": "code",
   "execution_count": null,
   "metadata": {},
   "outputs": [],
   "source": [
    "class House:\n",
    "    def __init__(self, year_build, area):\n",
    "        self._year = year_build\n",
    "        self._area = area\n",
    "              \n",
    "    # getter methods\n",
    "    def get_year_build(self): \n",
    "        return self._year\n",
    "    \n",
    "    def get_area(self): \n",
    "        return self._area \n",
    "      \n",
    "    # setter method \n",
    "    def set_year_build(self, x): \n",
    "        self._year = x"
   ]
  },
  {
   "cell_type": "code",
   "execution_count": null,
   "metadata": {},
   "outputs": [],
   "source": [
    "new_house = House(2021, 250)\n",
    "\n",
    "print('Rok budowy: ', new_house.get_year_build())\n",
    "print('Powierzchnia: ', new_house.get_area())"
   ]
  },
  {
   "cell_type": "code",
   "execution_count": null,
   "metadata": {},
   "outputs": [],
   "source": [
    "new_house.set_year_build(2022)\n",
    "new_house.get_year_build()"
   ]
  },
  {
   "cell_type": "code",
   "execution_count": null,
   "metadata": {},
   "outputs": [],
   "source": [
    "print('Rok budowy: ', new_house.get_year_build())\n",
    "print('Powierzchnia: ', new_house.get_area())"
   ]
  },
  {
   "cell_type": "code",
   "execution_count": null,
   "metadata": {},
   "outputs": [],
   "source": [
    "old_house = House(1823, 120)"
   ]
  },
  {
   "cell_type": "code",
   "execution_count": null,
   "metadata": {},
   "outputs": [],
   "source": [
    "old_house.get_year_build()"
   ]
  },
  {
   "cell_type": "markdown",
   "metadata": {},
   "source": [
    "## Ćwiczenia"
   ]
  },
  {
   "cell_type": "markdown",
   "metadata": {},
   "source": [
    "### Napisz klasę o nazwie Klient, której metoda \\__init\\__ przyjmuje wartości: klient_id, imie, nazwisko, kwota"
   ]
  },
  {
   "cell_type": "code",
   "execution_count": null,
   "metadata": {},
   "outputs": [],
   "source": []
  },
  {
   "cell_type": "markdown",
   "metadata": {},
   "source": [
    "### Dodaj do powyższej klasy metody do pobierania wartości (get_id, get_imie, ...)"
   ]
  },
  {
   "cell_type": "code",
   "execution_count": null,
   "metadata": {},
   "outputs": [],
   "source": []
  },
  {
   "cell_type": "markdown",
   "metadata": {},
   "source": [
    "### Przetestuj powyższą klasę, stwórz 2 instancje klasy z dowolnymi wartościami. Dla drugiej instancji wywołaj Nazwisko."
   ]
  },
  {
   "cell_type": "code",
   "execution_count": null,
   "metadata": {},
   "outputs": [],
   "source": []
  },
  {
   "cell_type": "markdown",
   "metadata": {},
   "source": [
    "### Do klasy Klient dodaj metody *set_imie*, *set_nazwisko*, które przyjmują jedną wartość i odpowiednio zmieniają wartości zmiennych *imie* oraz *nazwisko*. Stwórz instancję klasy i zmień nazwisko klentowi z użyciem stworzonej metody"
   ]
  },
  {
   "cell_type": "code",
   "execution_count": null,
   "metadata": {},
   "outputs": [],
   "source": []
  },
  {
   "cell_type": "code",
   "execution_count": null,
   "metadata": {},
   "outputs": [],
   "source": []
  },
  {
   "cell_type": "code",
   "execution_count": null,
   "metadata": {},
   "outputs": [],
   "source": []
  }
 ],
 "metadata": {
  "kernelspec": {
   "display_name": "Python 3 (ipykernel)",
   "language": "python",
   "name": "python3"
  },
  "language_info": {
   "codemirror_mode": {
    "name": "ipython",
    "version": 3
   },
   "file_extension": ".py",
   "mimetype": "text/x-python",
   "name": "python",
   "nbconvert_exporter": "python",
   "pygments_lexer": "ipython3",
   "version": "3.10.9"
  },
  "notify_time": "10",
  "toc": {
   "base_numbering": 1,
   "nav_menu": {},
   "number_sections": true,
   "sideBar": true,
   "skip_h1_title": false,
   "title_cell": "Table of Contents",
   "title_sidebar": "Contents",
   "toc_cell": false,
   "toc_position": {},
   "toc_section_display": "block",
   "toc_window_display": true
  }
 },
 "nbformat": 4,
 "nbformat_minor": 4
}
