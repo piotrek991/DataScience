{
 "cells": [
  {
   "cell_type": "markdown",
   "metadata": {},
   "source": [
    "Wojciech Łaguna  \n",
    "[wojtek@laguna.pm](mailto:wojtek@laguna.pm)"
   ]
  },
  {
   "cell_type": "markdown",
   "metadata": {},
   "source": [
    "# Python w Data Science 1.3 - iteracja (pętle) - Ćwiczenia\n",
    "---\n",
    "<img src=\"https://www.python.org/static/img/python-logo@2x.png\" />"
   ]
  },
  {
   "cell_type": "markdown",
   "metadata": {},
   "source": [
    "## Korzystając z pętli odwróć ciąg znaków w zmiennej *s*  \n",
    "----\n",
    "\"Normalny tekst\" => \"tsket ynlamroN\""
   ]
  },
  {
   "cell_type": "code",
   "execution_count": 2,
   "metadata": {
    "ExecuteTime": {
     "end_time": "2018-12-01T00:36:57.299Z",
     "start_time": "2018-12-01T00:36:57.288593Z"
    }
   },
   "outputs": [],
   "source": [
    "s = \"Normalny tekst\""
   ]
  },
  {
   "cell_type": "code",
   "execution_count": 3,
   "metadata": {},
   "outputs": [
    {
     "name": "stdout",
     "output_type": "stream",
     "text": [
      "tsket ynlamroN\n"
     ]
    }
   ],
   "source": [
    "text = str()\n",
    "for item in s[::-1]:\n",
    "    text += item\n",
    "print(text)"
   ]
  },
  {
   "cell_type": "markdown",
   "metadata": {},
   "source": [
    "## Napisz pętlę, która iteruje po liczbach w zakresie <1;50>\n",
    "---\n",
    "Dla wielokrotności trójki, niech wypisze *\"Fizz\"* zamiast liczby.   \n",
    "Dla wielokrotności piątki, niech wypisze *\"Buzz\"* zamiast liczby.  \n",
    "W przypadku liczb które są wielokrotnością trójki i piątki jednocześnie, niech wypisze *\"FizzBuzz\"*.  \n",
    "W pozostałych przypadkach, powinna zostać wypisana liczba."
   ]
  },
  {
   "cell_type": "code",
   "execution_count": null,
   "metadata": {},
   "outputs": [],
   "source": [
    "for item in range(0,51)"
   ]
  },
  {
   "cell_type": "markdown",
   "metadata": {},
   "source": [
    "## Napisz pętlę, która przy każdej iteracji losuje wartość z zakresu <1;5>.\n",
    "---\n",
    "Pętla powinna działać, dopóki nie wylosujemy wartości **3**.  \n",
    "Jeżeli wylosowana wartość jest mniejsza od **3** - wypisz *\"Za mało\"*  \n",
    "Jeżeli wylosowana wartość jest większa od **3** - wypisz *\"Za dużo\"*  \n",
    "Jeżeli wylosowana wartość jest równa **3** - wypisz *\"W sam raz\"*  \n",
    "  \n",
    "Skorzystaj z funkcji *randint*\n",
    "\n",
    "    import random\n",
    "    r = random.randint(a, b)"
   ]
  },
  {
   "cell_type": "code",
   "execution_count": null,
   "metadata": {},
   "outputs": [],
   "source": []
  },
  {
   "cell_type": "markdown",
   "metadata": {
    "ExecuteTime": {
     "end_time": "2018-12-01T00:34:28.572082Z",
     "start_time": "2018-12-01T00:34:28.455443Z"
    }
   },
   "source": [
    "## \\*\\* Napisz zagnieżdżone pętle, które wypiszą następujący wzrór:\n",
    "\n",
    "    * \n",
    "    * * \n",
    "    * * * \n",
    "    * * * * \n",
    "    * * * * * \n",
    "    * * * * \n",
    "    * * * \n",
    "    * * \n",
    "    *"
   ]
  },
  {
   "cell_type": "code",
   "execution_count": null,
   "metadata": {},
   "outputs": [],
   "source": []
  },
  {
   "cell_type": "markdown",
   "metadata": {},
   "source": [
    "## \\*\\* Stwórz słownik, który dla liczb w zakresie <1;10> jako wartości zawiera ich wartości **silnia (!)**.\n",
    "---\n",
    "Przykładowy słownik:\n",
    "    \n",
    "    {\n",
    "        1: 1,\n",
    "        2: 2,\n",
    "        3: 6,\n",
    "        ...\n",
    "    }"
   ]
  },
  {
   "cell_type": "code",
   "execution_count": null,
   "metadata": {},
   "outputs": [],
   "source": []
  }
 ],
 "metadata": {
  "kernelspec": {
   "display_name": "Python 3",
   "language": "python",
   "name": "python3"
  },
  "language_info": {
   "codemirror_mode": {
    "name": "ipython",
    "version": 3
   },
   "file_extension": ".py",
   "mimetype": "text/x-python",
   "name": "python",
   "nbconvert_exporter": "python",
   "pygments_lexer": "ipython3",
   "version": "3.8.8"
  }
 },
 "nbformat": 4,
 "nbformat_minor": 2
}
