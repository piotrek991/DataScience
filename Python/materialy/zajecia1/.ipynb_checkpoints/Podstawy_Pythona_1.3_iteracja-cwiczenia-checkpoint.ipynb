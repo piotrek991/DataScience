{
 "cells": [
  {
   "cell_type": "markdown",
   "metadata": {},
   "source": [
    "Wojciech Łaguna  \n",
    "[wojtek@laguna.pm](mailto:wojtek@laguna.pm)"
   ]
  },
  {
   "cell_type": "markdown",
   "metadata": {},
   "source": [
    "# Python w Data Science 1.3 - iteracja (pętle) - Ćwiczenia\n",
    "---\n",
    "<img src=\"https://www.python.org/static/img/python-logo@2x.png\" />"
   ]
  },
  {
   "cell_type": "markdown",
   "metadata": {},
   "source": [
    "## Korzystając z pętli odwróć ciąg znaków w zmiennej *s*  \n",
    "----\n",
    "\"Normalny tekst\" => \"tsket ynlamroN\""
   ]
  },
  {
   "cell_type": "code",
   "execution_count": 1,
   "metadata": {
    "ExecuteTime": {
     "end_time": "2018-12-01T00:36:57.299Z",
     "start_time": "2018-12-01T00:36:57.288593Z"
    }
   },
   "outputs": [],
   "source": [
    "s = \"Normalny tekst\""
   ]
  },
  {
   "cell_type": "code",
   "execution_count": 2,
   "metadata": {},
   "outputs": [
    {
     "name": "stdout",
     "output_type": "stream",
     "text": [
      "tsket ynlamroN\n"
     ]
    }
   ],
   "source": [
    "text = str()\n",
    "for item in s[::-1]:\n",
    "    text += item\n",
    "print(text)"
   ]
  },
  {
   "cell_type": "markdown",
   "metadata": {},
   "source": [
    "## Napisz pętlę, która iteruje po liczbach w zakresie <1;50>\n",
    "---\n",
    "Dla wielokrotności trójki, niech wypisze *\"Fizz\"* zamiast liczby.   \n",
    "Dla wielokrotności piątki, niech wypisze *\"Buzz\"* zamiast liczby.  \n",
    "W przypadku liczb które są wielokrotnością trójki i piątki jednocześnie, niech wypisze *\"FizzBuzz\"*.  \n",
    "W pozostałych przypadkach, powinna zostać wypisana liczba."
   ]
  },
  {
   "cell_type": "code",
   "execution_count": 4,
   "metadata": {},
   "outputs": [
    {
     "name": "stdout",
     "output_type": "stream",
     "text": [
      "FIZZ\n",
      "BUZZ\n",
      "FIZZ\n",
      "FIZZ\n",
      "BUZZ\n",
      "FIZZ\n",
      "FIZZ\n",
      "FIZZ\n",
      "BUZZ\n",
      "FIZZ\n",
      "FIZZ\n",
      "BUZZ\n",
      "FIZZ\n",
      "FIZZ\n",
      "FIZZ\n",
      "BUZZ\n",
      "FIZZ\n",
      "FIZZ\n",
      "BUZZ\n",
      "FIZZ\n",
      "FIZZ\n",
      "FIZZ\n",
      "BUZZ\n"
     ]
    }
   ],
   "source": [
    "for item in range(1,51):\n",
    "    if item%3 == 0:\n",
    "        print(\"FIZZ\")\n",
    "    elif item%5 == 0:\n",
    "        print(\"BUZZ\") "
   ]
  },
  {
   "cell_type": "markdown",
   "metadata": {},
   "source": [
    "## Napisz pętlę, która przy każdej iteracji losuje wartość z zakresu <1;5>.\n",
    "---\n",
    "Pętla powinna działać, dopóki nie wylosujemy wartości **3**.  \n",
    "Jeżeli wylosowana wartość jest mniejsza od **3** - wypisz *\"Za mało\"*  \n",
    "Jeżeli wylosowana wartość jest większa od **3** - wypisz *\"Za dużo\"*  \n",
    "Jeżeli wylosowana wartość jest równa **3** - wypisz *\"W sam raz\"*  \n",
    "  \n",
    "Skorzystaj z funkcji *randint*\n",
    "\n",
    "    import random\n",
    "    r = random.randint(a, b)"
   ]
  },
  {
   "cell_type": "code",
   "execution_count": 5,
   "metadata": {},
   "outputs": [
    {
     "name": "stdout",
     "output_type": "stream",
     "text": [
      "za malo\n",
      "za malo\n",
      "w punkt\n"
     ]
    }
   ],
   "source": [
    "import random\n",
    "r = random.randint(1,5)\n",
    "while r != 3:\n",
    "    if r > 3:\n",
    "        print(\"za duzo\")\n",
    "    else:\n",
    "        print(\"za malo\")\n",
    "    r = random.randint(1,5)\n",
    "\n",
    "print(\"w punkt\")"
   ]
  },
  {
   "cell_type": "markdown",
   "metadata": {
    "ExecuteTime": {
     "end_time": "2018-12-01T00:34:28.572082Z",
     "start_time": "2018-12-01T00:34:28.455443Z"
    }
   },
   "source": [
    "## \\*\\* Napisz zagnieżdżone pętle, które wypiszą następujący wzrór:\n",
    "\n",
    "    * \n",
    "    * * \n",
    "    * * * \n",
    "    * * * * \n",
    "    * * * * * \n",
    "    * * * * \n",
    "    * * * \n",
    "    * * \n",
    "    *"
   ]
  },
  {
   "cell_type": "code",
   "execution_count": 5,
   "metadata": {},
   "outputs": [
    {
     "name": "stdout",
     "output_type": "stream",
     "text": [
      "* \n",
      "* * \n",
      "* * * \n",
      "* * * * \n",
      "* * * * * \n",
      "* * * * \n",
      "* * * \n",
      "* * \n",
      "* \n",
      "\n"
     ]
    }
   ],
   "source": [
    "n = 5\n",
    "actual_s = 1\n",
    "adding = 1\n",
    "for i in range(2*n):\n",
    "    print(\"* \" * actual_s)\n",
    "    actual_s += adding\n",
    "    if actual_s == 5:\n",
    "        adding = -1"
   ]
  },
  {
   "cell_type": "code",
   "execution_count": 11,
   "metadata": {},
   "outputs": [
    {
     "name": "stdout",
     "output_type": "stream",
     "text": [
      "\n",
      "* \n",
      "* * \n",
      "* * * \n",
      "* * * * \n",
      "* * * * * \n",
      "* * * * \n",
      "* * * \n",
      "* * \n",
      "* \n"
     ]
    }
   ],
   "source": [
    "for i in range(10):\n",
    "    if i > 5:\n",
    "      el = 5 - i % 5\n",
    "    else:\n",
    "        el = i\n",
    "    print(\"* \" * el)"
   ]
  },
  {
   "cell_type": "code",
   "execution_count": 15,
   "metadata": {},
   "outputs": [
    {
     "name": "stdout",
     "output_type": "stream",
     "text": [
      "\n",
      "* \n",
      "* * \n",
      "* * * \n",
      "* * * * \n",
      "* \n",
      "* * * * * \n",
      "* * * * \n",
      "* * * \n",
      "* * \n"
     ]
    }
   ],
   "source": [
    "direction = 1\n",
    "for i in range(10):\n",
    "    s = \"\"\n",
    "    if i > 5:\n",
    "        direction = - 1\n",
    "    for i in range():\n",
    "        s = s + \"* \"\n",
    "    print(s)"
   ]
  },
  {
   "cell_type": "markdown",
   "metadata": {},
   "source": [
    "## \\*\\* Stwórz słownik, który dla liczb w zakresie <1;10> jako wartości zawiera ich wartości **silnia (!)**.\n",
    "---\n",
    "Przykładowy słownik:\n",
    "    \n",
    "    {\n",
    "        1: 1,\n",
    "        2: 2,\n",
    "        3: 6,\n",
    "        ...\n",
    "    }"
   ]
  },
  {
   "cell_type": "code",
   "execution_count": 33,
   "metadata": {},
   "outputs": [
    {
     "name": "stdout",
     "output_type": "stream",
     "text": [
      "HERE\n",
      "HERE\n",
      "HERE\n",
      "HERE\n",
      "HERE\n",
      "HERE\n",
      "HERE\n",
      "HERE\n",
      "HERE\n",
      "HERE\n",
      "HERE\n",
      "39916800\n",
      "HERE\n",
      "HERE\n",
      "HERE\n",
      "HERE\n",
      "HERE\n",
      "HERE\n",
      "HERE\n",
      "HERE\n",
      "HERE\n",
      "HERE\n",
      "HERE\n",
      "39916800\n"
     ]
    }
   ],
   "source": [
    "def calc_silnia(n):\n",
    "    print(\"HERE\")\n",
    "    if n > 1:\n",
    "        return n*calc_silnia(n-1)\n",
    "    else:\n",
    "        return 1\n",
    "print(calc_silnia(11))\n",
    "\n",
    "def calc_silniav2(n):\n",
    "    print(\"HERE\")\n",
    "    if n == 1:\n",
    "        return 1\n",
    "    return n*calc_silnia(n-1)\n",
    "\n",
    "print(calc_silniav2(11))"
   ]
  },
  {
   "cell_type": "code",
   "execution_count": 35,
   "metadata": {},
   "outputs": [
    {
     "name": "stdout",
     "output_type": "stream",
     "text": [
      "HERE\n",
      "HERE\n",
      "HERE\n",
      "HERE\n",
      "HERE\n",
      "HERE\n",
      "HERE\n",
      "HERE\n",
      "HERE\n",
      "HERE\n",
      "HERE\n",
      "HERE\n"
     ]
    },
    {
     "data": {
      "text/plain": [
       "{0: 0, 1: 1, 2: 2, 3: 6, 4: 24}"
      ]
     },
     "execution_count": 35,
     "metadata": {},
     "output_type": "execute_result"
    }
   ],
   "source": [
    "em_dict = dict()\n",
    "for item in range(5):\n",
    "    em_dict[item] = calc_silniav2(item)\n",
    "em_dict"
   ]
  },
  {
   "cell_type": "code",
   "execution_count": null,
   "metadata": {},
   "outputs": [],
   "source": []
  }
 ],
 "metadata": {
  "kernelspec": {
   "display_name": "Python 3",
   "language": "python",
   "name": "python3"
  },
  "language_info": {
   "codemirror_mode": {
    "name": "ipython",
    "version": 3
   },
   "file_extension": ".py",
   "mimetype": "text/x-python",
   "name": "python",
   "nbconvert_exporter": "python",
   "pygments_lexer": "ipython3",
   "version": "3.8.8"
  }
 },
 "nbformat": 4,
 "nbformat_minor": 2
}
