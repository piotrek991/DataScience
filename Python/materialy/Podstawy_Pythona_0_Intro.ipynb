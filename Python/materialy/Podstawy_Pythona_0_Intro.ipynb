{
 "cells": [
  {
   "cell_type": "code",
   "execution_count": null,
   "metadata": {
    "slideshow": {
     "slide_type": "slide"
    }
   },
   "outputs": [],
   "source": [
    "### Wojciech Łaguna  \n",
    "[wojtek@laguna.pm](mailto:wojtek@laguna.pm)\n",
    "\n",
    "### Mateusz Rogowski  "
   ]
  },
  {
   "cell_type": "markdown",
   "metadata": {
    "slideshow": {
     "slide_type": "slide"
    }
   },
   "source": [
    "# Python w Data Science 1\n",
    "---\n",
    "<img src=\"https://www.python.org/static/img/python-logo@2x.png\" />"
   ]
  },
  {
   "cell_type": "markdown",
   "metadata": {
    "slideshow": {
     "slide_type": "slide"
    }
   },
   "source": [
    "# Źródła informacji\n",
    "\n",
    "* [Python](https://www.python.org/)\n",
    "\n",
    "\n",
    "### Kursy internetowe i książki:\n",
    "\n",
    "* [Python na AGH](https://github.com/agh-glk/python-lecture) [PL]\n",
    "* [Zanurkuj w Pythonie](https://pl.wikibooks.org/wiki/Zanurkuj_w_Pythonie) [PL]\n",
    "* [Python dla dzieci](https://ksiegarnia.pwn.pl/Python-dla-dzieci,114592565,p.html) [PL]\n",
    " ****  \n",
    "* [codecademy - Python](https://www.codecademy.com/learn/learn-python-3) [ENG]\n",
    "* [Python Practice Book](http://anandology.com/python-practice-book/) [ENG]\n",
    "* [Programming for Everybody (Python)](https://www.coursera.org/course/pythonlearn) [ENG]\n",
    "\n",
    "### Kursy wideo:\n",
    "\n",
    "* [Microsoft Virtual Academy - Introduction to Programming with Python](https://docs.microsoft.com/en-us/learn/modules/intro-to-python/) [ENG]\n",
    "\n",
    "### Ćwiczenia:\n",
    "\n",
    "* [HackerRank - Python](https://www.hackerrank.com/domains/python/py-introduction) [ENG]\n",
    "* [codewars - Python](http://www.codewars.com/) [ENG]\n",
    "* [checkio - Python](http://www.checkio.org/) [ENG]\n",
    "* FUN: [CodeCombat](http://codecombat.com/) [ENG/PL]\n"
   ]
  },
  {
   "cell_type": "markdown",
   "metadata": {
    "collapsed": true,
    "jupyter": {
     "outputs_hidden": true
    },
    "slideshow": {
     "slide_type": "slide"
    }
   },
   "source": [
    "# Środowiska i pakiety\n",
    "\n",
    "**Środowiska Python (źródła pakietów)**\n",
    "* [Conda](http://conda.pydata.org/docs/intro.html) (Win + Mac + Linux)\n",
    "* [Python Package Index - PyPI](https://pypi.python.org/) + [pip](https://pip.pypa.io/en/stable/) (Mac + Linux)"
   ]
  },
  {
   "cell_type": "markdown",
   "metadata": {
    "slideshow": {
     "slide_type": "slide"
    }
   },
   "source": [
    "# Dlaczego Python?\n",
    "---\n",
    "1. Popularny język programowania. [Październik 2022](https://www.tiobe.com/tiobe-index/)\n",
    "2. Relatywnie prosty\n",
    "3. Duża liczba gotowych pakietów\n",
    "4. Duża liczba gotowych pakietów naukowych\n",
    "5. Popularny w dziedzinie Data Science [kdnuggets.com](https://www.kdnuggets.com/2019/05/poll-top-data-science-machine-learning-platforms.html)"
   ]
  },
  {
   "cell_type": "markdown",
   "metadata": {
    "slideshow": {
     "slide_type": "slide"
    }
   },
   "source": [
    "# Sposoby korzystania z Pythona\n",
    "---\n",
    "### 1. Skrypty zapisane w plikach *.py\n",
    "*proste skrypty, aplikacje okienkowe, aplikacje webowe, aplikacje mobilne*  \n",
    "\n",
    "Popularne edytory:\n",
    "* [Atom](https://atom.io/)  \n",
    "* [Visual Studio Code](https://code.visualstudio.com/)  \n",
    "* [Pycharm](https://www.jetbrains.com/pycharm/)  \n",
    "\n",
    "### 2. Konsola - interaktywna konsola pythona [iPython](https://ipython.org/)\n",
    "*głównie do prototypowania*\n",
    "<img src=\"https://ipython.readthedocs.io/en/stable/_images/ipython-6-screenshot.png\" />\n",
    "### 3. Jupyter Notebook / Jupyter Lab\n",
    "[jupyter.org](http://jupyter.org/)  \n",
    "*prototypowanie, analiza danych, wizualizacja*  "
   ]
  },
  {
   "cell_type": "markdown",
   "metadata": {},
   "source": [
    "# Instalacja - Python 3\n",
    "---\n",
    "https://docs.python.org/pl/3.10/using/index.html"
   ]
  }
 ],
 "metadata": {
  "kernelspec": {
   "display_name": "Python 3",
   "language": "python",
   "name": "python3"
  },
  "language_info": {
   "codemirror_mode": {
    "name": "ipython",
    "version": 3
   },
   "file_extension": ".py",
   "mimetype": "text/x-python",
   "name": "python",
   "nbconvert_exporter": "python",
   "pygments_lexer": "ipython3",
   "version": "3.8.8"
  },
  "toc": {
   "nav_menu": {},
   "number_sections": true,
   "sideBar": true,
   "skip_h1_title": false,
   "toc_cell": false,
   "toc_position": {},
   "toc_section_display": "block",
   "toc_window_display": false
  }
 },
 "nbformat": 4,
 "nbformat_minor": 4
}
